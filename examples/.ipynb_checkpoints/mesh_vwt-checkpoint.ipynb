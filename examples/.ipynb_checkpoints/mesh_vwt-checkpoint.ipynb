{
 "cells": [
  {
   "cell_type": "code",
   "execution_count": 1,
   "metadata": {
    "pycharm": {
     "name": "#%%\n"
    }
   },
   "outputs": [],
   "source": [
    "import procedural\n",
    "import json\n",
    "import os\n",
    "\n",
    "master_path = \"/home/kongsgaard/git/procedural-py/\"\n",
    "secret_path = os.path.join(master_path, \"secrets\")\n",
    "data_path = os.path.join(master_path, \"examples\", \"data\")\n"
   ]
  },
  {
   "cell_type": "code",
   "execution_count": 2,
   "metadata": {
    "collapsed": true
   },
   "outputs": [
    {
     "name": "stdout",
     "output_type": "stream",
     "text": [
      "CLIENT: http://localhost:8001 - Authenticated: Yes\n"
     ]
    }
   ],
   "source": [
    "user, password, url = procedural.utils.get_secrets(secret_path)\n",
    "client = procedural.Client(url, user, password)\n",
    "print(f\"CLIENT: {client}\")\n"
   ]
  },
  {
   "cell_type": "code",
   "execution_count": 4,
   "metadata": {
    "pycharm": {
     "name": "#%%\n"
    }
   },
   "outputs": [
    {
     "name": "stdout",
     "output_type": "stream",
     "text": [
      "PROJECT: c9a9c780\n",
      "{\n",
      "    \"uid\": \"c9a9c780-28fd-4b7b-aa59-3edb640b99e1\",\n",
      "    \"name\": \"Project Test\",\n",
      "    \"number\": 1,\n",
      "    \"cluster\": \"7d0fe9f7-4c90-4bdc-8b8d-be742bbd1709\",\n",
      "    \"path\": \"/mnt/cluster/projects/1_project-test\",\n",
      "    \"path_type\": \"name\",\n",
      "    \"company\": \"863f76ec-13f6-4f20-b271-093c17de5565\"\n",
      "}\n"
     ]
    }
   ],
   "source": [
    "project_name = \"Project Test\"\n",
    "project_number = 1\n",
    "project = client.get_or_create(\"api/project/\", {\"name\": project_name, \"number\": project_number})\n",
    "project_id = project.get(\"uid\")\n",
    "\n",
    "print(f\"PROJECT: {project_id[:8]}\")\n",
    "print(json.dumps(project, indent=4))"
   ]
  },
  {
   "cell_type": "code",
   "execution_count": 5,
   "metadata": {
    "pycharm": {
     "name": "#%%\n"
    }
   },
   "outputs": [
    {
     "name": "stdout",
     "output_type": "stream",
     "text": [
      "PARENT TASK: 678ec266\n",
      "{\n",
      "    \"uid\": \"678ec266-1bf4-49f5-a44b-722bcffa26e3\",\n",
      "    \"status\": \"waiting\",\n",
      "    \"started\": null,\n",
      "    \"stopped\": null,\n",
      "    \"created\": \"2020-06-12T08:14:55.697482\",\n",
      "    \"config\": {\n",
      "        \"case_dir\": \"foam\",\n",
      "        \"task_type\": \"parent\"\n",
      "    },\n",
      "    \"cluster_base_dir\": \"/mnt/cluster/projects/1_project-test/jupyter-task\",\n",
      "    \"parent\": null,\n",
      "    \"meta_json\": {},\n",
      "    \"project\": \"c9a9c780-28fd-4b7b-aa59-3edb640b99e1\",\n",
      "    \"name\": \"Jupyter Task\",\n",
      "    \"dependent_on\": null\n",
      "}\n"
     ]
    }
   ],
   "source": [
    "task_name = \"Jupyter Task\"\n",
    "parent_task = client.get_or_create(f\"api/project/{project.get('uid')}/task/\", {\"name\": task_name}, {\"config\": {\"task_type\": \"parent\", \"case_dir\": \"foam\"}})\n",
    "parent_id = parent_task.get(\"uid\")\n",
    "\n",
    "print(f\"PARENT TASK: {parent_id[:8]}\")\n",
    "print(json.dumps(parent_task, indent=4))\n"
   ]
  },
  {
   "cell_type": "code",
   "execution_count": 6,
   "metadata": {
    "pycharm": {
     "name": "#%%\n"
    }
   },
   "outputs": [
    {
     "name": "stdout",
     "output_type": "stream",
     "text": [
      "UPLOADED FILE: foam/constant/triSurface/cfdGeom.stl\n"
     ]
    }
   ],
   "source": [
    "stl_path = os.path.join(data_path, \"mesh_vwt\", \"cfdGeom.stl\")\n",
    "file_upload = client.update(f\"api/task/{parent_id}/file/foam/constant/triSurface/cfdGeom.stl/\",\n",
    "                            {\"file\": open(stl_path, 'r')})\n",
    "print(f\"UPLOADED FILE: {file_upload.get('file')}\")"
   ]
  },
  {
   "cell_type": "code",
   "execution_count": null,
   "metadata": {
    "pycharm": {
     "name": "#%%\n"
    }
   },
   "outputs": [],
   "source": [
    "write_mesh_path = os.path.join(data_path, \"mesh_vwt\", \"write_mesh.json\")\n",
    "with open(write_mesh_path, 'r') as f:\n",
    "    mesh_config = json.load(f)\n",
    "\n",
    "payload = {\"name\": \"Actions\", \"config\": mesh_config, \"parent\": parent_id}\n",
    "action_task = client.create(f\"/api/project/{project_id}/task/\", payload)\n",
    "action_id = action_task.get(\"uid\")\n",
    "\n",
    "write_solution_path = os.path.join(data_path, \"mesh_vwt\", \"write_solution.json\")\n",
    "with open(write_solution_path, 'r') as f:\n",
    "    solution_config = json.load(f)\n",
    "\n",
    "payload = {\"name\": \"Actions\", \"status\": \"pending\", \"config\": solution_config, \"parent\": parent_id}\n",
    "client.update(f\"/api/project/{project_id}/task/{action_id}/\", payload)\n",
    "\n",
    "print(f\"ACTION TASK: {action_id[:8]}\")\n",
    "print(json.dumps(action_task, indent=4))\n",
    "\n",
    "configs = client.get(f\"/api/task/{action_id}/config/\")\n",
    "print(f\"TASK CONFIGS FOR ACTION TASK: {action_id[:8]}\")\n",
    "print(json.dumps(configs, indent=4))"
   ]
  },
  {
   "cell_type": "code",
   "execution_count": null,
   "metadata": {
    "pycharm": {
     "name": "#%%\n"
    }
   },
   "outputs": [],
   "source": [
    "cpus = [2, 1, 1]\n",
    "payload = {\n",
    "    \"name\": \"Mesh\",\n",
    "    \"config\": {\n",
    "        \"task_type\": \"cfd\",\n",
    "        \"cmd\": \"pipeline\",\n",
    "        \"cpus\": cpus,\n",
    "        \"commands\": [\n",
    "            \"blockMesh\",\n",
    "            \"snappyHesMesh -overwrite\",\n",
    "            \"reconstructParMesh -constant -mergeTol 1e-6\",\n",
    "            \"!checkMesh -writeSets vtk\"\n",
    "        ]},\n",
    "    \"parent\": parent_id,\n",
    "    \"dependent_on\": action_id\n",
    "}\n",
    "\n",
    "mesh_task = client.create(f\"/api/project/{project_id}/task/\", payload)\n",
    "mesh_id = mesh_task.get(\"uid\")\n",
    "\n",
    "print(f\"MESH TASK: {mesh_id[:8]}\")\n",
    "print(json.dumps(mesh_id, indent=4))\n"
   ]
  },
  {
   "cell_type": "code",
   "execution_count": null,
   "metadata": {
    "pycharm": {
     "name": "#%%\n"
    }
   },
   "outputs": [],
   "source": [
    "payload = {\n",
    "    \"name\": \"VWT\",\n",
    "    \"config\": {\n",
    "        \"task_type\": \"cfd\",\n",
    "        \"cmd\": \"wind_tunnel\",\n",
    "        \"commands\": [\n",
    "            0,\n",
    "            90,\n",
    "            180,\n",
    "            270\n",
    "        ],\n",
    "        \"cpus\": cpus,\n",
    "        \"iterations\": {\n",
    "            \"init\": 100,\n",
    "            \"run\": 50\n",
    "        }\n",
    "    },\n",
    "    \"parent\": parent_id,\n",
    "    \"dependent_on\": mesh_id\n",
    "}\n",
    "\n",
    "vwt_task = client.create(f\"/api/project/{project_id}/task/\", payload)\n",
    "vwt_id = vwt_task.get(\"uid\")\n",
    "\n",
    "print(f\"VWT TASK: {vwt_id[:8]}\")\n",
    "print(json.dumps(vwt_task, indent=4))"
   ]
  },
  {
   "cell_type": "code",
   "execution_count": null,
   "metadata": {
    "pycharm": {
     "name": "#%%\n"
    }
   },
   "outputs": [],
   "source": [
    "#client.delete(f\"api/project/{project_id}/task/{parent_id}/\")\n",
    "#client.delete(f\"api/project/{project_id}/\")\n"
   ]
  }
 ],
 "metadata": {
  "kernelspec": {
   "display_name": "Python 3",
   "language": "python",
   "name": "python3"
  },
  "language_info": {
   "codemirror_mode": {
    "name": "ipython",
    "version": 3
   },
   "file_extension": ".py",
   "mimetype": "text/x-python",
   "name": "python",
   "nbconvert_exporter": "python",
   "pygments_lexer": "ipython3",
   "version": "3.8.2"
  }
 },
 "nbformat": 4,
 "nbformat_minor": 1
}
