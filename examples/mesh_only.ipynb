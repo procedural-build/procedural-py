{
 "cells": [
  {
   "cell_type": "code",
   "execution_count": 1,
   "metadata": {
    "pycharm": {
     "name": "#%%\n"
    }
   },
   "outputs": [],
   "source": [
    "import procedural\n",
    "import json\n",
    "import os\n",
    "\n",
    "master_path = \"/home/kongsgaard/git/procedural-py/\"\n",
    "secret_path = os.path.join(master_path, \"secrets\")\n",
    "data_path = os.path.join(master_path, \"examples\", \"data\")\n"
   ]
  },
  {
   "cell_type": "code",
   "execution_count": 1,
   "metadata": {},
   "outputs": [
    {
     "ename": "NameError",
     "evalue": "name 'procedural' is not defined",
     "output_type": "error",
     "traceback": [
      "\u001B[0;31m---------------------------------------------------------------------------\u001B[0m",
      "\u001B[0;31mNameError\u001B[0m                                 Traceback (most recent call last)",
      "\u001B[0;32m<ipython-input-1-16a9f95d1a50>\u001B[0m in \u001B[0;36m<module>\u001B[0;34m\u001B[0m\n\u001B[0;32m----> 1\u001B[0;31m \u001B[0muser\u001B[0m\u001B[0;34m,\u001B[0m \u001B[0mpassword\u001B[0m\u001B[0;34m,\u001B[0m \u001B[0murl\u001B[0m \u001B[0;34m=\u001B[0m \u001B[0mprocedural\u001B[0m\u001B[0;34m.\u001B[0m\u001B[0mutils\u001B[0m\u001B[0;34m.\u001B[0m\u001B[0mget_secrets\u001B[0m\u001B[0;34m(\u001B[0m\u001B[0msecret_path\u001B[0m\u001B[0;34m)\u001B[0m\u001B[0;34m\u001B[0m\u001B[0;34m\u001B[0m\u001B[0m\n\u001B[0m\u001B[1;32m      2\u001B[0m \u001B[0mclient\u001B[0m \u001B[0;34m=\u001B[0m \u001B[0mprocedural\u001B[0m\u001B[0;34m.\u001B[0m\u001B[0mClient\u001B[0m\u001B[0;34m(\u001B[0m\u001B[0murl\u001B[0m\u001B[0;34m,\u001B[0m \u001B[0muser\u001B[0m\u001B[0;34m,\u001B[0m \u001B[0mpassword\u001B[0m\u001B[0;34m)\u001B[0m\u001B[0;34m\u001B[0m\u001B[0;34m\u001B[0m\u001B[0m\n\u001B[1;32m      3\u001B[0m \u001B[0mprint\u001B[0m\u001B[0;34m(\u001B[0m\u001B[0;34mf\"CLIENT: {client}\"\u001B[0m\u001B[0;34m)\u001B[0m\u001B[0;34m\u001B[0m\u001B[0;34m\u001B[0m\u001B[0m\n\u001B[1;32m      4\u001B[0m \u001B[0;34m\u001B[0m\u001B[0m\n\u001B[1;32m      5\u001B[0m \u001B[0;34m\u001B[0m\u001B[0m\n",
      "\u001B[0;31mNameError\u001B[0m: name 'procedural' is not defined"
     ]
    }
   ],
   "source": [
    "user, password, url = procedural.utils.get_secrets(secret_path)\n",
    "client = procedural.Client(url, user, password)\n",
    "print(f\"CLIENT: {client}\")\n"
   ]
  },
  {
   "cell_type": "code",
   "execution_count": 3,
   "metadata": {
    "pycharm": {
     "name": "#%%\n"
    }
   },
   "outputs": [
    {
     "name": "stdout",
     "output_type": "stream",
     "text": [
      "PROJECT: 733958e7\n",
      "{\n",
      "    \"uid\": \"733958e7-cb8e-4c0b-94da-3d8d8e71b4de\",\n",
      "    \"name\": \"Jupyter Project\",\n",
      "    \"number\": 99,\n",
      "    \"cluster\": \"2a6812b0-9b95-4336-8819-26889a677b18\",\n",
      "    \"path\": \"/mnt/cluster/projects/99_jupyter-project\",\n",
      "    \"path_type\": \"name\",\n",
      "    \"company\": \"30eb91f9-d82c-4d1a-9370-9461ac531b92\"\n",
      "}\n"
     ]
    }
   ],
   "source": [
    "project_name = \"Jupyter Project\"\n",
    "project_number = 99\n",
    "project = client.get_or_create(\"api/project/\", {\"name\": project_name, \"number\": project_number})\n",
    "project_id = project.get(\"uid\")\n",
    "\n",
    "print(f\"PROJECT: {project_id[:8]}\")\n",
    "print(json.dumps(project, indent=4))"
   ]
  },
  {
   "cell_type": "code",
   "execution_count": 4,
   "metadata": {
    "pycharm": {
     "name": "#%%\n"
    }
   },
   "outputs": [
    {
     "name": "stdout",
     "output_type": "stream",
     "text": [
      "PARENT TASK: 911c8c9b\n",
      "{\n",
      "    \"uid\": \"911c8c9b-bcb1-401d-b19c-1c9aa80a622a\",\n",
      "    \"status\": \"waiting\",\n",
      "    \"started\": null,\n",
      "    \"stopped\": null,\n",
      "    \"created\": \"2020-09-01T08:12:04.623637\",\n",
      "    \"config\": {\n",
      "        \"case_dir\": \"foam\",\n",
      "        \"task_type\": \"parent\"\n",
      "    },\n",
      "    \"cluster_base_dir\": \"/mnt/cluster/projects/99_jupyter-project/jupyter-mesh\",\n",
      "    \"parent\": null,\n",
      "    \"meta_json\": {},\n",
      "    \"project\": \"733958e7-cb8e-4c0b-94da-3d8d8e71b4de\",\n",
      "    \"name\": \"Jupyter Mesh\",\n",
      "    \"dependent_on\": null\n",
      "}\n"
     ]
    }
   ],
   "source": [
    "task_name = \"Jupyter Mesh\"\n",
    "parent_task = client.get_or_create(\n",
    "    f\"api/project/{project.get('uid')}/task/\",\n",
    "    {\"name\": task_name},\n",
    "    {\"config\": {\n",
    "        \"task_type\": \"parent\",\n",
    "        \"case_dir\": \"foam\"\n",
    "    }\n",
    "    })\n",
    "parent_id = parent_task.get(\"uid\")\n",
    "\n",
    "print(f\"PARENT TASK: {parent_id[:8]}\")\n",
    "print(json.dumps(parent_task, indent=4))\n"
   ]
  },
  {
   "cell_type": "code",
   "execution_count": 5,
   "metadata": {
    "pycharm": {
     "name": "#%%\n"
    }
   },
   "outputs": [
    {
     "name": "stdout",
     "output_type": "stream",
     "text": [
      "UPLOADED FILE: foam/constant/triSurface/cfdGeom.stl\n"
     ]
    }
   ],
   "source": [
    "stl_path = os.path.join(data_path, \"mesh_vwt\", \"cfdGeom.stl\")\n",
    "file_upload = client.update(f\"api/task/{parent_id}/file/foam/constant/triSurface/cfdGeom.stl/\",\n",
    "                            files=open(stl_path, 'r').read(), extra_headers={\"content-type\": \"application/octet-stream\"})\n",
    "print(f\"UPLOADED FILE: {file_upload.get('file')}\")"
   ]
  },
  {
   "cell_type": "code",
   "execution_count": 6,
   "metadata": {
    "pycharm": {
     "name": "#%%\n"
    }
   },
   "outputs": [
    {
     "name": "stdout",
     "output_type": "stream",
     "text": [
      "ACTION TASK: 93376e5c\n",
      "{\n",
      "    \"uid\": \"93376e5c-2533-4c51-9a82-82e2a5367639\",\n",
      "    \"status\": \"waiting\",\n",
      "    \"started\": null,\n",
      "    \"stopped\": null,\n",
      "    \"created\": \"2020-09-01T08:12:04.734612\",\n",
      "    \"config\": {\n",
      "        \"cmd\": \"cfd.io.tasks.write_mesh\",\n",
      "        \"case_dir\": \"foam\",\n",
      "        \"base_mesh\": {\n",
      "            \"type\": \"simpleBox\",\n",
      "            \"cell_size\": 2,\n",
      "            \"parameters\": {\n",
      "                \"z0\": \"True\",\n",
      "                \"square\": \"True\"\n",
      "            },\n",
      "            \"bounding_box\": {\n",
      "                \"max\": [\n",
      "                    35,\n",
      "                    35,\n",
      "                    24\n",
      "                ],\n",
      "                \"min\": [\n",
      "                    -35,\n",
      "                    -35,\n",
      "                    0\n",
      "                ]\n",
      "            }\n",
      "        },\n",
      "        \"task_type\": \"magpy\",\n",
      "        \"snappyhex_mesh\": {\n",
      "            \"surfaces\": {\n",
      "                \"_269c2d39-4173-45a4-8f97-a21f3917d174\": {\n",
      "                    \"level\": {\n",
      "                        \"max\": \"2\",\n",
      "                        \"min\": \"2\"\n",
      "                    }\n",
      "                },\n",
      "                \"_29ceb925-bb98-4c8c-81c9-6af4f539bceb\": {\n",
      "                    \"level\": {\n",
      "                        \"max\": \"2\",\n",
      "                        \"min\": \"2\"\n",
      "                    }\n",
      "                },\n",
      "                \"_3d44c03a-88b0-45cc-a09c-3ebde502a6e3\": {\n",
      "                    \"level\": {\n",
      "                        \"max\": \"2\",\n",
      "                        \"min\": \"2\"\n",
      "                    }\n",
      "                },\n",
      "                \"_7ba22566-cd83-48ed-afdb-b24808f2d058\": {\n",
      "                    \"level\": {\n",
      "                        \"max\": \"2\",\n",
      "                        \"min\": \"2\"\n",
      "                    }\n",
      "                },\n",
      "                \"_865a46ee-2fb1-47ea-ba98-d340bbb07d07\": {\n",
      "                    \"level\": {\n",
      "                        \"max\": \"2\",\n",
      "                        \"min\": \"2\"\n",
      "                    }\n",
      "                }\n",
      "            },\n",
      "            \"overrides\": {\n",
      "                \"castellatedMeshControls\": {\n",
      "                    \"locationInMesh\": [\n",
      "                        14.2847305471821,\n",
      "                        14.2847305471821,\n",
      "                        16.897621901891\n",
      "                    ]\n",
      "                }\n",
      "            },\n",
      "            \"default_surface\": {\n",
      "                \"Plane\": {\n",
      "                    \"level\": {\n",
      "                        \"max\": \"3\",\n",
      "                        \"min\": \"3\"\n",
      "                    }\n",
      "                }\n",
      "            }\n",
      "        }\n",
      "    },\n",
      "    \"cluster_base_dir\": \"/mnt/cluster/projects/99_jupyter-project/jupyter-mesh\",\n",
      "    \"parent\": {\n",
      "        \"uid\": \"911c8c9b-bcb1-401d-b19c-1c9aa80a622a\",\n",
      "        \"name\": \"Jupyter Mesh\"\n",
      "    },\n",
      "    \"meta_json\": {},\n",
      "    \"project\": \"733958e7-cb8e-4c0b-94da-3d8d8e71b4de\",\n",
      "    \"name\": \"Actions\",\n",
      "    \"dependent_on\": null\n",
      "}\n",
      "TASK CONFIGS FOR ACTION TASK: 93376e5c\n",
      "[\n",
      "    {\n",
      "        \"uid\": \"e260e6c8-771a-41e3-b4ec-b2f9a14d2300\",\n",
      "        \"used\": false,\n",
      "        \"created\": \"2020-09-01T08:12:04.760336\",\n",
      "        \"started\": null,\n",
      "        \"stopped\": null,\n",
      "        \"config\": {\n",
      "            \"cmd\": \"cfd.io.tasks.write_mesh\",\n",
      "            \"case_dir\": \"foam\",\n",
      "            \"base_mesh\": {\n",
      "                \"type\": \"simpleBox\",\n",
      "                \"cell_size\": 2,\n",
      "                \"parameters\": {\n",
      "                    \"z0\": \"True\",\n",
      "                    \"square\": \"True\"\n",
      "                },\n",
      "                \"bounding_box\": {\n",
      "                    \"max\": [\n",
      "                        35,\n",
      "                        35,\n",
      "                        24\n",
      "                    ],\n",
      "                    \"min\": [\n",
      "                        -35,\n",
      "                        -35,\n",
      "                        0\n",
      "                    ]\n",
      "                }\n",
      "            },\n",
      "            \"task_type\": \"magpy\",\n",
      "            \"snappyhex_mesh\": {\n",
      "                \"surfaces\": {\n",
      "                    \"_269c2d39-4173-45a4-8f97-a21f3917d174\": {\n",
      "                        \"level\": {\n",
      "                            \"max\": \"2\",\n",
      "                            \"min\": \"2\"\n",
      "                        }\n",
      "                    },\n",
      "                    \"_29ceb925-bb98-4c8c-81c9-6af4f539bceb\": {\n",
      "                        \"level\": {\n",
      "                            \"max\": \"2\",\n",
      "                            \"min\": \"2\"\n",
      "                        }\n",
      "                    },\n",
      "                    \"_3d44c03a-88b0-45cc-a09c-3ebde502a6e3\": {\n",
      "                        \"level\": {\n",
      "                            \"max\": \"2\",\n",
      "                            \"min\": \"2\"\n",
      "                        }\n",
      "                    },\n",
      "                    \"_7ba22566-cd83-48ed-afdb-b24808f2d058\": {\n",
      "                        \"level\": {\n",
      "                            \"max\": \"2\",\n",
      "                            \"min\": \"2\"\n",
      "                        }\n",
      "                    },\n",
      "                    \"_865a46ee-2fb1-47ea-ba98-d340bbb07d07\": {\n",
      "                        \"level\": {\n",
      "                            \"max\": \"2\",\n",
      "                            \"min\": \"2\"\n",
      "                        }\n",
      "                    }\n",
      "                },\n",
      "                \"overrides\": {\n",
      "                    \"castellatedMeshControls\": {\n",
      "                        \"locationInMesh\": [\n",
      "                            14.2847305471821,\n",
      "                            14.2847305471821,\n",
      "                            16.897621901891\n",
      "                        ]\n",
      "                    }\n",
      "                },\n",
      "                \"default_surface\": {\n",
      "                    \"Plane\": {\n",
      "                        \"level\": {\n",
      "                            \"max\": \"3\",\n",
      "                            \"min\": \"3\"\n",
      "                        }\n",
      "                    }\n",
      "                }\n",
      "            }\n",
      "        },\n",
      "        \"task\": \"93376e5c-2533-4c51-9a82-82e2a5367639\",\n",
      "        \"priority\": 0.0\n",
      "    }\n",
      "]\n"
     ]
    }
   ],
   "source": [
    "write_mesh_path = os.path.join(data_path, \"mesh_vwt\", \"write_mesh.json\")\n",
    "with open(write_mesh_path, 'r') as f:\n",
    "    mesh_config = json.load(f)\n",
    "\n",
    "payload = {\"name\": \"Actions\", \"config\": mesh_config, \"parent\": parent_id}\n",
    "action_task = client.create(f\"/api/project/{project_id}/task/\", payload)\n",
    "action_id = action_task.get(\"uid\")\n",
    "\n",
    "print(f\"ACTION TASK: {action_id[:8]}\")\n",
    "print(json.dumps(action_task, indent=4))\n",
    "\n",
    "configs = client.get(f\"/api/task/{action_id}/config/\")\n",
    "print(f\"TASK CONFIGS FOR ACTION TASK: {action_id[:8]}\")\n",
    "print(json.dumps(configs, indent=4))"
   ]
  },
  {
   "cell_type": "code",
   "execution_count": 7,
   "metadata": {
    "pycharm": {
     "name": "#%%\n"
    }
   },
   "outputs": [
    {
     "name": "stdout",
     "output_type": "stream",
     "text": [
      "MESH TASK: 4ab434db\n",
      "{\n",
      "    \"uid\": \"4ab434db-0e83-4db1-83f5-4b8cf5bdf4b5\",\n",
      "    \"status\": \"waiting\",\n",
      "    \"started\": null,\n",
      "    \"stopped\": null,\n",
      "    \"created\": \"2020-09-01T08:12:04.835054\",\n",
      "    \"config\": {\n",
      "        \"cmd\": \"pipeline\",\n",
      "        \"cpus\": [\n",
      "            2,\n",
      "            1,\n",
      "            1\n",
      "        ],\n",
      "        \"case_dir\": \"foam\",\n",
      "        \"commands\": [\n",
      "            \"blockMesh\",\n",
      "            \"snappyHexMesh -overwrite\",\n",
      "            \"reconstructParMesh -constant -mergeTol 1e-6\",\n",
      "            \"!checkMesh -writeSets vtk\",\n",
      "            \"foamToSurface -constant surfaceMesh.obj\"\n",
      "        ],\n",
      "        \"task_type\": \"cfd\"\n",
      "    },\n",
      "    \"cluster_base_dir\": \"/mnt/cluster/projects/99_jupyter-project/jupyter-mesh\",\n",
      "    \"parent\": {\n",
      "        \"uid\": \"911c8c9b-bcb1-401d-b19c-1c9aa80a622a\",\n",
      "        \"name\": \"Jupyter Mesh\"\n",
      "    },\n",
      "    \"meta_json\": {},\n",
      "    \"project\": \"733958e7-cb8e-4c0b-94da-3d8d8e71b4de\",\n",
      "    \"name\": \"Mesh\",\n",
      "    \"dependent_on\": {\n",
      "        \"uid\": \"93376e5c-2533-4c51-9a82-82e2a5367639\",\n",
      "        \"name\": \"Actions\"\n",
      "    }\n",
      "}\n"
     ]
    }
   ],
   "source": [
    "cpus = [2, 1, 1]\n",
    "payload = {\n",
    "    \"name\": \"Mesh\",\n",
    "    \"config\": {\n",
    "        \"task_type\": \"cfd\",\n",
    "        \"cmd\": \"pipeline\",\n",
    "        \"cpus\": cpus,\n",
    "        \"commands\": [\n",
    "            \"blockMesh\",\n",
    "            \"snappyHexMesh -overwrite\",\n",
    "            \"reconstructParMesh -constant -mergeTol 1e-6\",\n",
    "            \"!checkMesh -writeSets vtk\",\n",
    "            \"foamToSurface -constant surfaceMesh.obj\"\n",
    "        ]},\n",
    "    \"parent\": parent_id,\n",
    "    \"dependent_on\": action_id\n",
    "}\n",
    "\n",
    "mesh_task = client.create(f\"/api/project/{project_id}/task/\", payload)\n",
    "mesh_id = mesh_task.get(\"uid\")\n",
    "\n",
    "print(f\"MESH TASK: {mesh_id[:8]}\")\n",
    "print(json.dumps(mesh_task, indent=4))\n"
   ]
  },
  {
   "cell_type": "code",
   "execution_count": 8,
   "metadata": {
    "pycharm": {
     "name": "#%%\n"
    }
   },
   "outputs": [],
   "source": [
    "#client.delete(f\"api/project/{project_id}/task/{parent_id}/\")\n",
    "#client.delete(f\"api/project/{project_id}/\")"
   ]
  },
  {
   "cell_type": "code",
   "execution_count": 8,
   "metadata": {},
   "outputs": [],
   "source": []
  }
 ],
 "metadata": {
  "kernelspec": {
   "display_name": "Python 3",
   "language": "python",
   "name": "python3"
  },
  "language_info": {
   "codemirror_mode": {
    "name": "ipython",
    "version": 3
   },
   "file_extension": ".py",
   "mimetype": "text/x-python",
   "name": "python",
   "nbconvert_exporter": "python",
   "pygments_lexer": "ipython3",
   "version": "3.8.2"
  }
 },
 "nbformat": 4,
 "nbformat_minor": 1
}