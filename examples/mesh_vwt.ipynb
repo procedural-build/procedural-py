{
 "cells": [
  {
   "cell_type": "code",
   "execution_count": null,
   "metadata": {
    "pycharm": {
     "name": "#%%\n"
    }
   },
   "outputs": [],
   "source": [
    "import procedural\n",
    "import json\n",
    "import os\n",
    "\n",
    "master_path = \"/home/kongsgaard/git/procedural-py/\"\n",
    "secret_path = os.path.join(master_path, \"secrets\")\n",
    "data_path = os.path.join(master_path, \"examples\", \"data\")\n"
   ]
  },
  {
   "cell_type": "code",
   "execution_count": null,
   "metadata": {},
   "outputs": [],
   "source": [
    "user, password, url = procedural.utils.get_secrets(secret_path)\n",
    "client = procedural.Client(url, user, password)\n",
    "print(f\"CLIENT: {client}\")\n"
   ]
  },
  {
   "cell_type": "code",
   "execution_count": null,
   "metadata": {
    "pycharm": {
     "name": "#%%\n"
    }
   },
   "outputs": [],
   "source": [
    "project_name = \"Jupyter Project\"\n",
    "project_number = 99\n",
    "project = client.get_or_create(\"api/project/\", {\"name\": project_name, \"number\": project_number})\n",
    "project_id = project.get(\"uid\")\n",
    "\n",
    "print(f\"PROJECT: {project_id[:8]}\")\n",
    "print(json.dumps(project, indent=4))"
   ]
  },
  {
   "cell_type": "code",
   "execution_count": null,
   "metadata": {
    "pycharm": {
     "name": "#%%\n"
    }
   },
   "outputs": [],
   "source": [
    "task_name = \"Jupyter Test Task\"\n",
    "parent_task = client.get_or_create(\n",
    "    f\"api/project/{project.get('uid')}/task/\",\n",
    "    {\"name\": task_name},\n",
    "    {\"config\": {\n",
    "        \"task_type\": \"parent\",\n",
    "        \"case_dir\": \"foam\"\n",
    "    }\n",
    "    })\n",
    "parent_id = parent_task.get(\"uid\")\n",
    "\n",
    "print(f\"PARENT TASK: {parent_id[:8]}\")\n",
    "print(json.dumps(parent_task, indent=4))\n"
   ]
  },
  {
   "cell_type": "code",
   "execution_count": null,
   "metadata": {
    "pycharm": {
     "name": "#%%\n"
    }
   },
   "outputs": [],
   "source": [
    "stl_path = os.path.join(data_path, \"mesh_vwt\", \"cfdGeom.stl\")\n",
    "file_upload = client.update(f\"api/task/{parent_id}/file/foam/constant/triSurface/cfdGeom.stl/\",\n",
    "                            files=open(stl_path, 'r').read())\n",
    "print(f\"UPLOADED FILE: {file_upload.get('file')}\")"
   ]
  },
  {
   "cell_type": "code",
   "execution_count": null,
   "metadata": {
    "pycharm": {
     "name": "#%%\n"
    }
   },
   "outputs": [],
   "source": [
    "write_mesh_path = os.path.join(data_path, \"mesh_vwt\", \"write_mesh.json\")\n",
    "with open(write_mesh_path, 'r') as f:\n",
    "    mesh_config = json.load(f)\n",
    "\n",
    "payload = {\"name\": \"Actions\", \"config\": mesh_config, \"parent\": parent_id}\n",
    "action_task = client.create(f\"/api/project/{project_id}/task/\", payload)\n",
    "action_id = action_task.get(\"uid\")\n",
    "\n",
    "write_solution_path = os.path.join(data_path, \"mesh_vwt\", \"write_solution.json\")\n",
    "with open(write_solution_path, 'r') as f:\n",
    "    solution_config = json.load(f)\n",
    "\n",
    "payload = {\"name\": \"Actions\", \"status\": \"pending\", \"config\": solution_config}\n",
    "client.update(f\"/api/project/{project_id}/task/{action_id}/\", payload)\n",
    "\n",
    "print(f\"ACTION TASK: {action_id[:8]}\")\n",
    "print(json.dumps(action_task, indent=4))\n",
    "\n",
    "configs = client.get(f\"/api/task/{action_id}/config/\")\n",
    "print(f\"TASK CONFIGS FOR ACTION TASK: {action_id[:8]}\")\n",
    "print(json.dumps(configs, indent=4))"
   ]
  },
  {
   "cell_type": "code",
   "execution_count": null,
   "metadata": {
    "pycharm": {
     "name": "#%%\n"
    }
   },
   "outputs": [],
   "source": [
    "cpus = [2, 1, 1]\n",
    "payload = {\n",
    "    \"name\": \"Mesh\",\n",
    "    \"config\": {\n",
    "        \"task_type\": \"cfd\",\n",
    "        \"cmd\": \"pipeline\",\n",
    "        \"cpus\": cpus,\n",
    "        \"commands\": [\n",
    "            \"blockMesh\",\n",
    "            \"snappyHexMesh -overwrite\",\n",
    "            \"reconstructParMesh -constant -mergeTol 1e-6\",\n",
    "            \"!checkMesh -writeSets vtk\"\n",
    "        ]},\n",
    "    \"parent\": parent_id,\n",
    "    \"dependent_on\": action_id\n",
    "}\n",
    "\n",
    "mesh_task = client.create(f\"/api/project/{project_id}/task/\", payload)\n",
    "mesh_id = mesh_task.get(\"uid\")\n",
    "\n",
    "print(f\"MESH TASK: {mesh_id[:8]}\")\n",
    "print(json.dumps(mesh_task, indent=4))\n"
   ]
  },
  {
   "cell_type": "code",
   "execution_count": null,
   "metadata": {
    "pycharm": {
     "name": "#%%\n"
    }
   },
   "outputs": [],
   "source": [
    "payload = {\n",
    "    \"name\": \"VWT\",\n",
    "    \"config\": {\n",
    "        \"task_type\": \"cfd\",\n",
    "        \"cmd\": \"wind_tunnel\",\n",
    "        \"commands\": [\n",
    "            0,\n",
    "            90,\n",
    "            180,\n",
    "            270\n",
    "        ],\n",
    "        \"cpus\": cpus,\n",
    "        \"iterations\": {\n",
    "            \"init\": 100,\n",
    "            \"run\": 50\n",
    "        }\n",
    "    },\n",
    "    \"parent\": parent_id,\n",
    "    \"dependent_on\": mesh_id\n",
    "}\n",
    "\n",
    "#vwt_task = client.create(f\"/api/project/{project_id}/task/\", payload)\n",
    "#vwt_id = vwt_task.get(\"uid\")\n",
    "\n",
    "#print(f\"VWT TASK: {vwt_id[:8]}\")\n",
    "#print(json.dumps(vwt_task, indent=4))"
   ]
  },
  {
   "cell_type": "code",
   "execution_count": null,
   "metadata": {
    "pycharm": {
     "name": "#%%\n"
    }
   },
   "outputs": [],
   "source": [
    "#client.delete(f\"api/project/{project_id}/task/{parent_id}/\")\n",
    "#client.delete(f\"api/project/{project_id}/\")\n"
   ]
  },
  {
   "cell_type": "code",
   "execution_count": null,
   "outputs": [],
   "source": [],
   "metadata": {
    "collapsed": false,
    "pycharm": {
     "name": "#%%\n"
    }
   }
  },
  {
   "cell_type": "code",
   "execution_count": null,
   "metadata": {},
   "outputs": [],
   "source": []
  }
 ],
 "metadata": {
  "kernelspec": {
   "display_name": "Python 3",
   "language": "python",
   "name": "python3"
  },
  "language_info": {
   "codemirror_mode": {
    "name": "ipython",
    "version": 3
   },
   "file_extension": ".py",
   "mimetype": "text/x-python",
   "name": "python",
   "nbconvert_exporter": "python",
   "pygments_lexer": "ipython3",
   "version": "3.8.2"
  }
 },
 "nbformat": 4,
 "nbformat_minor": 1
}