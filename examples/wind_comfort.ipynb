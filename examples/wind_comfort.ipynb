{
 "cells": [
  {
   "cell_type": "code",
   "execution_count": 0,
   "metadata": {
    "collapsed": true
   },
   "outputs": [],
   "source": []
  },
  {
   "cell_type": "code",
   "execution_count": 1,
   "outputs": [],
   "source": [
    "import procedural\n",
    "import json\n",
    "import os\n",
    "\n",
    "master_path = \"/home/kongsgaard/git/procedural-py/\"\n",
    "secret_path = os.path.join(master_path, \"secrets\")\n",
    "data_path = os.path.join(master_path, \"examples\", \"data\")\n"
   ],
   "metadata": {
    "collapsed": false,
    "pycharm": {
     "name": "#%%\n"
    }
   }
  },
  {
   "cell_type": "code",
   "execution_count": 2,
   "outputs": [
    {
     "name": "stdout",
     "output_type": "stream",
     "text": [
      "CLIENT: http://localhost:8001 - Authenticated: Yes\n"
     ]
    }
   ],
   "source": [
    "user, password, url = procedural.utils.get_secrets(secret_path)\n",
    "client = procedural.Client(url, user, password)\n",
    "print(f\"CLIENT: {client}\")\n"
   ],
   "metadata": {
    "collapsed": false,
    "pycharm": {
     "name": "#%%\n"
    }
   }
  },
  {
   "cell_type": "code",
   "execution_count": 3,
   "outputs": [
    {
     "name": "stdout",
     "output_type": "stream",
     "text": [
      "PROJECT: 8e7b022e\n",
      "{\n",
      "    \"uid\": \"8e7b022e-4363-408f-80c8-c5a4e4246a32\",\n",
      "    \"name\": \"Jupyter Project\",\n",
      "    \"number\": 99,\n",
      "    \"cluster\": \"e93cc55f-e3cc-4020-aa2b-0711757c476f\",\n",
      "    \"path\": \"/mnt/cluster/projects/99_jupyter-project\",\n",
      "    \"path_type\": \"name\",\n",
      "    \"company\": \"1575b6cf-41d3-4996-8dcc-73045c1d9539\"\n",
      "}\n"
     ]
    }
   ],
   "source": [
    "project_name = \"Jupyter Project\"\n",
    "project_number = 99\n",
    "project = client.get_or_create(\"api/project/\", {\"name\": project_name, \"number\": project_number})\n",
    "project_id = project.get(\"uid\")\n",
    "\n",
    "print(f\"PROJECT: {project_id[:8]}\")\n",
    "print(json.dumps(project, indent=4))"
   ],
   "metadata": {
    "collapsed": false,
    "pycharm": {
     "name": "#%%\n"
    }
   }
  },
  {
   "cell_type": "code",
   "execution_count": 4,
   "outputs": [
    {
     "name": "stdout",
     "output_type": "stream",
     "text": [
      "PARENT TASK: 6d4fd5f9\n",
      "{\n",
      "    \"uid\": \"6d4fd5f9-6ef8-419b-a445-8898b468ed6f\",\n",
      "    \"status\": \"waiting\",\n",
      "    \"started\": null,\n",
      "    \"stopped\": null,\n",
      "    \"created\": \"2020-10-12T11:15:57.847963\",\n",
      "    \"config\": {\n",
      "        \"task_type\": \"parent\",\n",
      "        \"case_dir\": \"foam\"\n",
      "    },\n",
      "    \"cluster_base_dir\": \"/mnt/cluster/projects/99_jupyter-project/jupyter-wind-thresholds_59fee6e1\",\n",
      "    \"parent\": null,\n",
      "    \"meta_json\": {},\n",
      "    \"project\": \"8e7b022e-4363-408f-80c8-c5a4e4246a32\",\n",
      "    \"name\": \"Jupyter Wind Thresholds\",\n",
      "    \"dependent_on\": null,\n",
      "    \"priority\": 100\n",
      "}\n"
     ]
    }
   ],
   "source": [
    "task_name = \"Jupyter Wind Thresholds\"\n",
    "parent_task = client.get_or_create(\n",
    "    f\"api/project/{project.get('uid')}/task/\",\n",
    "    {\"name\": task_name},\n",
    "    {\"config\": {\n",
    "        \"task_type\": \"parent\",\n",
    "        \"case_dir\": \"foam\"\n",
    "    }\n",
    "    })\n",
    "parent_id = parent_task.get(\"uid\")\n",
    "\n",
    "print(f\"PARENT TASK: {parent_id[:8]}\")\n",
    "print(json.dumps(parent_task, indent=4))\n"
   ],
   "metadata": {
    "collapsed": false,
    "pycharm": {
     "name": "#%%\n"
    }
   }
  },
  {
   "cell_type": "code",
   "execution_count": 5,
   "outputs": [
    {
     "name": "stdout",
     "output_type": "stream",
     "text": [
      "UPLOADED FILE: foam/constant/triSurface/cfdGeom.stl\n"
     ]
    }
   ],
   "source": [
    "stl_path = os.path.join(data_path, \"mesh_vwt\", \"cfdGeom.stl\")\n",
    "file_upload = client.update(f\"api/task/{parent_id}/file/foam/constant/triSurface/cfdGeom.stl/\",\n",
    "                            files=open(stl_path, 'r').read(), extra_headers={\"content-type\": \"application/octet-stream\"})\n",
    "print(f\"UPLOADED FILE: {file_upload.get('file')}\")"
   ],
   "metadata": {
    "collapsed": false,
    "pycharm": {
     "name": "#%%\n"
    }
   }
  },
  {
   "cell_type": "code",
   "execution_count": 6,
   "outputs": [
    {
     "name": "stdout",
     "output_type": "stream",
     "text": [
      "ACTION TASK: 1aa8e413\n",
      "{\n",
      "    \"uid\": \"1aa8e413-9504-46c0-89e0-838a4e715442\",\n",
      "    \"status\": \"waiting\",\n",
      "    \"started\": null,\n",
      "    \"stopped\": null,\n",
      "    \"created\": \"2020-10-12T11:15:58.097128\",\n",
      "    \"config\": {\n",
      "        \"cmd\": \"cfd.io.tasks.write_mesh\",\n",
      "        \"case_dir\": \"foam\",\n",
      "        \"base_mesh\": {\n",
      "            \"type\": \"simpleBox\",\n",
      "            \"cell_size\": 2,\n",
      "            \"parameters\": {\n",
      "                \"z0\": \"True\",\n",
      "                \"square\": \"True\"\n",
      "            },\n",
      "            \"bounding_box\": {\n",
      "                \"max\": [\n",
      "                    35,\n",
      "                    35,\n",
      "                    24\n",
      "                ],\n",
      "                \"min\": [\n",
      "                    -35,\n",
      "                    -35,\n",
      "                    0\n",
      "                ]\n",
      "            }\n",
      "        },\n",
      "        \"task_type\": \"magpy\",\n",
      "        \"snappyhex_mesh\": \"dict data too large for JSON.\"\n",
      "    },\n",
      "    \"cluster_base_dir\": \"/mnt/cluster/projects/99_jupyter-project/jupyter-wind-thresholds_59fee6e1\",\n",
      "    \"parent\": {\n",
      "        \"uid\": \"6d4fd5f9-6ef8-419b-a445-8898b468ed6f\",\n",
      "        \"name\": \"Jupyter Wind Thresholds\"\n",
      "    },\n",
      "    \"meta_json\": {},\n",
      "    \"project\": \"8e7b022e-4363-408f-80c8-c5a4e4246a32\",\n",
      "    \"name\": \"Actions\",\n",
      "    \"dependent_on\": null,\n",
      "    \"priority\": 100\n",
      "}\n",
      "TASK CONFIGS FOR ACTION TASK: 1aa8e413\n",
      "[\n",
      "    {\n",
      "        \"uid\": \"1dfef4a1-c3e6-4a7f-9eaa-640df9d151f9\",\n",
      "        \"used\": false,\n",
      "        \"created\": \"2020-10-12T11:15:58.163749\",\n",
      "        \"started\": null,\n",
      "        \"stopped\": null,\n",
      "        \"config\": {\n",
      "            \"cmd\": \"cfd.io.tasks.write_mesh\",\n",
      "            \"case_dir\": \"foam\",\n",
      "            \"base_mesh\": {\n",
      "                \"type\": \"simpleBox\",\n",
      "                \"cell_size\": 2,\n",
      "                \"parameters\": {\n",
      "                    \"z0\": \"True\",\n",
      "                    \"square\": \"True\"\n",
      "                },\n",
      "                \"bounding_box\": {\n",
      "                    \"max\": [\n",
      "                        35,\n",
      "                        35,\n",
      "                        24\n",
      "                    ],\n",
      "                    \"min\": [\n",
      "                        -35,\n",
      "                        -35,\n",
      "                        0\n",
      "                    ]\n",
      "                }\n",
      "            },\n",
      "            \"task_type\": \"magpy\",\n",
      "            \"snappyhex_mesh\": {\n",
      "                \"surfaces\": {\n",
      "                    \"_269c2d39-4173-45a4-8f97-a21f3917d174\": {\n",
      "                        \"level\": {\n",
      "                            \"max\": \"2\",\n",
      "                            \"min\": \"2\"\n",
      "                        }\n",
      "                    },\n",
      "                    \"_29ceb925-bb98-4c8c-81c9-6af4f539bceb\": {\n",
      "                        \"level\": {\n",
      "                            \"max\": \"2\",\n",
      "                            \"min\": \"2\"\n",
      "                        }\n",
      "                    },\n",
      "                    \"_3d44c03a-88b0-45cc-a09c-3ebde502a6e3\": {\n",
      "                        \"level\": {\n",
      "                            \"max\": \"2\",\n",
      "                            \"min\": \"2\"\n",
      "                        }\n",
      "                    },\n",
      "                    \"_7ba22566-cd83-48ed-afdb-b24808f2d058\": {\n",
      "                        \"level\": {\n",
      "                            \"max\": \"2\",\n",
      "                            \"min\": \"2\"\n",
      "                        }\n",
      "                    },\n",
      "                    \"_865a46ee-2fb1-47ea-ba98-d340bbb07d07\": {\n",
      "                        \"level\": {\n",
      "                            \"max\": \"2\",\n",
      "                            \"min\": \"2\"\n",
      "                        }\n",
      "                    }\n",
      "                },\n",
      "                \"overrides\": {\n",
      "                    \"castellatedMeshControls\": {\n",
      "                        \"locationInMesh\": [\n",
      "                            14.2847305471821,\n",
      "                            14.2847305471821,\n",
      "                            16.897621901891\n",
      "                        ]\n",
      "                    }\n",
      "                },\n",
      "                \"default_surface\": {\n",
      "                    \"Plane\": {\n",
      "                        \"level\": {\n",
      "                            \"max\": \"3\",\n",
      "                            \"min\": \"3\"\n",
      "                        }\n",
      "                    }\n",
      "                }\n",
      "            }\n",
      "        },\n",
      "        \"task\": \"1aa8e413-9504-46c0-89e0-838a4e715442\",\n",
      "        \"priority\": 0.0\n",
      "    },\n",
      "    {\n",
      "        \"uid\": \"6e0d5f58-0862-4c5e-86c8-6f5329117b0a\",\n",
      "        \"used\": false,\n",
      "        \"created\": \"2020-10-12T11:15:58.255590\",\n",
      "        \"started\": null,\n",
      "        \"stopped\": null,\n",
      "        \"config\": {\n",
      "            \"task_type\": \"magpy\",\n",
      "            \"cmd\": \"cfd.io.tasks.write_solution\",\n",
      "            \"solution\": {\n",
      "                \"cpus\": [\n",
      "                    2,\n",
      "                    2,\n",
      "                    1\n",
      "                ],\n",
      "                \"solver\": \"simpleFoam\",\n",
      "                \"case_type\": \"VirtualWindTunnel\",\n",
      "                \"boundary_conditions\": {\n",
      "                    \"MaxY\": {\n",
      "                        \"preset\": \"fixedVelocity\",\n",
      "                        \"overrides\": {\n",
      "                            \"U\": \"{ value uniform (0 -5 0); }\"\n",
      "                        }\n",
      "                    },\n",
      "                    \"MinY\": {\n",
      "                        \"preset\": \"fixedPressure\"\n",
      "                    },\n",
      "                    \"MaxZ\": {\n",
      "                        \"preset\": \"wall\",\n",
      "                        \"overrides\": \"wallSlip\"\n",
      "                    },\n",
      "                    \"MinZ\": {\n",
      "                        \"preset\": \"wall\",\n",
      "                        \"overrides\": \"wallSlip\"\n",
      "                    },\n",
      "                    \"MinX\": {\n",
      "                        \"preset\": \"wall\",\n",
      "                        \"overrides\": \"wallSlip\"\n",
      "                    },\n",
      "                    \"MaxX\": {\n",
      "                        \"preset\": \"wall\",\n",
      "                        \"overrides\": \"wallSlip\"\n",
      "                    }\n",
      "                },\n",
      "                \"iterations\": {\n",
      "                    \"init\": 100,\n",
      "                    \"run\": 50\n",
      "                },\n",
      "                \"angles\": [\n",
      "                    0,\n",
      "                    22.5,\n",
      "                    45,\n",
      "                    67.5,\n",
      "                    90,\n",
      "                    112.5,\n",
      "                    135,\n",
      "                    157.5,\n",
      "                    180,\n",
      "                    202.5,\n",
      "                    225,\n",
      "                    247.5,\n",
      "                    270,\n",
      "                    292.5,\n",
      "                    315,\n",
      "                    337.5\n",
      "                ],\n",
      "                \"overrides\": null\n",
      "            },\n",
      "            \"case_dir\": \"foam\"\n",
      "        },\n",
      "        \"task\": \"1aa8e413-9504-46c0-89e0-838a4e715442\",\n",
      "        \"priority\": 1.0\n",
      "    }\n",
      "]\n"
     ]
    }
   ],
   "source": [
    "write_mesh_path = os.path.join(data_path, \"mesh_vwt\", \"write_mesh.json\")\n",
    "with open(write_mesh_path, 'r') as f:\n",
    "    mesh_config = json.load(f)\n",
    "\n",
    "payload = {\"name\": \"Actions\", \"config\": mesh_config, \"parent\": parent_id}\n",
    "action_task = client.create(f\"/api/project/{project_id}/task/\", payload)\n",
    "action_id = action_task.get(\"uid\")\n",
    "\n",
    "write_solution_path = os.path.join(data_path, \"mesh_vwt\", \"write_solution.json\")\n",
    "with open(write_solution_path, 'r') as f:\n",
    "    solution_config = json.load(f)\n",
    "\n",
    "payload = {\"name\": \"Actions\", \"status\": \"pending\", \"config\": solution_config}\n",
    "client.update(f\"/api/project/{project_id}/task/{action_id}/\", payload)\n",
    "\n",
    "print(f\"ACTION TASK: {action_id[:8]}\")\n",
    "print(json.dumps(action_task, indent=4))\n",
    "\n",
    "configs = client.get(f\"/api/task/{action_id}/config/\")\n",
    "print(f\"TASK CONFIGS FOR ACTION TASK: {action_id[:8]}\")\n",
    "print(json.dumps(configs, indent=4))"
   ],
   "metadata": {
    "collapsed": false,
    "pycharm": {
     "name": "#%%\n"
    }
   }
  },
  {
   "cell_type": "code",
   "execution_count": 7,
   "outputs": [
    {
     "name": "stdout",
     "output_type": "stream",
     "text": [
      "MESH TASK: e24c67c3\n",
      "{\n",
      "    \"uid\": \"e24c67c3-3fa5-493e-b35c-f7b79c17b6b8\",\n",
      "    \"status\": \"waiting\",\n",
      "    \"started\": null,\n",
      "    \"stopped\": null,\n",
      "    \"created\": \"2020-10-12T11:15:58.503020\",\n",
      "    \"config\": {\n",
      "        \"task_type\": \"cfd\",\n",
      "        \"cmd\": \"pipeline\",\n",
      "        \"cpus\": [\n",
      "            2,\n",
      "            1,\n",
      "            1\n",
      "        ],\n",
      "        \"commands\": [\n",
      "            \"blockMesh\",\n",
      "            \"snappyHexMesh -overwrite\",\n",
      "            \"reconstructParMesh -constant -mergeTol 1e-6\",\n",
      "            \"!checkMesh -writeSets vtk\"\n",
      "        ],\n",
      "        \"case_dir\": \"foam\"\n",
      "    },\n",
      "    \"cluster_base_dir\": \"/mnt/cluster/projects/99_jupyter-project/jupyter-wind-thresholds_59fee6e1\",\n",
      "    \"parent\": {\n",
      "        \"uid\": \"6d4fd5f9-6ef8-419b-a445-8898b468ed6f\",\n",
      "        \"name\": \"Jupyter Wind Thresholds\"\n",
      "    },\n",
      "    \"meta_json\": {},\n",
      "    \"project\": \"8e7b022e-4363-408f-80c8-c5a4e4246a32\",\n",
      "    \"name\": \"Mesh\",\n",
      "    \"dependent_on\": {\n",
      "        \"uid\": \"1aa8e413-9504-46c0-89e0-838a4e715442\",\n",
      "        \"name\": \"Actions\"\n",
      "    },\n",
      "    \"priority\": 100\n",
      "}\n"
     ]
    }
   ],
   "source": [
    "cpus = [2, 1, 1]\n",
    "payload = {\n",
    "    \"name\": \"Mesh\",\n",
    "    \"config\": {\n",
    "        \"task_type\": \"cfd\",\n",
    "        \"cmd\": \"pipeline\",\n",
    "        \"cpus\": cpus,\n",
    "        \"commands\": [\n",
    "            \"blockMesh\",\n",
    "            \"snappyHexMesh -overwrite\",\n",
    "            \"reconstructParMesh -constant -mergeTol 1e-6\",\n",
    "            \"!checkMesh -writeSets vtk\"\n",
    "        ]},\n",
    "    \"parent\": parent_id,\n",
    "    \"dependent_on\": action_id\n",
    "}\n",
    "\n",
    "mesh_task = client.create(f\"/api/project/{project_id}/task/\", payload)\n",
    "mesh_id = mesh_task.get(\"uid\")\n",
    "\n",
    "print(f\"MESH TASK: {mesh_id[:8]}\")\n",
    "print(json.dumps(mesh_task, indent=4))\n"
   ],
   "metadata": {
    "collapsed": false,
    "pycharm": {
     "name": "#%%\n"
    }
   }
  },
  {
   "cell_type": "code",
   "execution_count": 11,
   "outputs": [
    {
     "name": "stdout",
     "output_type": "stream",
     "text": [
      "VWT TASK: 76c253f5\n",
      "{\n",
      "    \"uid\": \"76c253f5-38c9-4582-bd79-ff7dbe19ca2d\",\n",
      "    \"status\": \"waiting\",\n",
      "    \"started\": null,\n",
      "    \"stopped\": null,\n",
      "    \"created\": \"2020-10-12T11:20:03.986379\",\n",
      "    \"config\": {\n",
      "        \"task_type\": \"parent\",\n",
      "        \"cmd\": \"wind_tunnel\",\n",
      "        \"commands\": [\n",
      "            0,\n",
      "            45,\n",
      "            90,\n",
      "            135,\n",
      "            180,\n",
      "            225,\n",
      "            270,\n",
      "            315\n",
      "        ],\n",
      "        \"cpus\": [\n",
      "            2,\n",
      "            1,\n",
      "            1\n",
      "        ],\n",
      "        \"iterations\": {\n",
      "            \"init\": 100,\n",
      "            \"run\": 50\n",
      "        },\n",
      "        \"case_dir\": \"foam\"\n",
      "    },\n",
      "    \"cluster_base_dir\": \"/mnt/cluster/projects/99_jupyter-project/jupyter-wind-thresholds_59fee6e1\",\n",
      "    \"parent\": {\n",
      "        \"uid\": \"6d4fd5f9-6ef8-419b-a445-8898b468ed6f\",\n",
      "        \"name\": \"Jupyter Wind Thresholds\"\n",
      "    },\n",
      "    \"meta_json\": {},\n",
      "    \"project\": \"8e7b022e-4363-408f-80c8-c5a4e4246a32\",\n",
      "    \"name\": \"VWT\",\n",
      "    \"dependent_on\": null,\n",
      "    \"priority\": 100\n",
      "}\n"
     ]
    }
   ],
   "source": [
    "payload_vwt = {\n",
    "    \"name\": \"VWT\",\n",
    "    \"config\": {\n",
    "        \"task_type\": \"cfd\",\n",
    "        \"cmd\": \"wind_tunnel\",\n",
    "        \"commands\": [\n",
    "            0,\n",
    "            45,\n",
    "            90,\n",
    "            135,\n",
    "            180,\n",
    "            225,\n",
    "            270,\n",
    "            315,\n",
    "        ],\n",
    "        \"cpus\": cpus,\n",
    "        \"iterations\": {\n",
    "            \"init\": 100,\n",
    "            \"run\": 50\n",
    "        }\n",
    "    },\n",
    "    \"parent\": parent_id,\n",
    "    \"dependent_on\": mesh_id\n",
    "}\n",
    "\n",
    "vwt_task = client.create(f\"/api/project/{project_id}/task/\", payload_vwt)\n",
    "vwt_id = vwt_task.get(\"uid\")\n",
    "\n",
    "print(f\"VWT TASK: {vwt_id[:8]}\")\n",
    "print(json.dumps(vwt_task, indent=4))"
   ],
   "metadata": {
    "collapsed": false,
    "pycharm": {
     "name": "#%%\n"
    }
   }
  },
  {
   "cell_type": "code",
   "execution_count": 12,
   "outputs": [
    {
     "name": "stdout",
     "output_type": "stream",
     "text": [
      "PROBE TASK: 0540874d\n",
      "{\n",
      "    \"uid\": \"0540874d-aab5-4267-97b5-9fc7f349a5c1\",\n",
      "    \"status\": \"waiting\",\n",
      "    \"started\": null,\n",
      "    \"stopped\": null,\n",
      "    \"created\": \"2020-10-12T11:21:23.279603\",\n",
      "    \"config\": {\n",
      "        \"task_type\": \"cfd\",\n",
      "        \"cmd\": \"pipeline\",\n",
      "        \"commands\": [\n",
      "            \"write_sample_set\",\n",
      "            \"postProcess -fields '(U p)' -func internalCloud\"\n",
      "        ],\n",
      "        \"case_dir\": \"VWT/\",\n",
      "        \"cpus\": [\n",
      "            1,\n",
      "            1,\n",
      "            1\n",
      "        ],\n",
      "        \"sets\": \"list data too large for JSON.\",\n",
      "        \"fields\": [\n",
      "            \"Utrans\"\n",
      "        ]\n",
      "    },\n",
      "    \"cluster_base_dir\": \"/mnt/cluster/projects/99_jupyter-project/jupyter-wind-thresholds_59fee6e1\",\n",
      "    \"parent\": {\n",
      "        \"uid\": \"6d4fd5f9-6ef8-419b-a445-8898b468ed6f\",\n",
      "        \"name\": \"Jupyter Wind Thresholds\"\n",
      "    },\n",
      "    \"meta_json\": {},\n",
      "    \"project\": \"8e7b022e-4363-408f-80c8-c5a4e4246a32\",\n",
      "    \"name\": \"Probing\",\n",
      "    \"dependent_on\": {\n",
      "        \"uid\": \"76c253f5-38c9-4582-bd79-ff7dbe19ca2d\",\n",
      "        \"name\": \"VWT\"\n",
      "    },\n",
      "    \"priority\": 100\n",
      "}\n"
     ]
    }
   ],
   "source": [
    "probe_sets_path = os.path.join(data_path, \"mesh_vwt\", \"probe_sets.json\")\n",
    "with open(probe_sets_path, 'r') as f:\n",
    "    sets = json.load(f)\n",
    "\n",
    "payload = {\n",
    "    \"name\": \"Probing\",\n",
    "    \"config\": {\n",
    "        \"task_type\": \"cfd\",\n",
    "        \"cmd\": \"pipeline\",\n",
    "        \"commands\": [\n",
    "            \"write_sample_set\",\n",
    "            \"postProcess -fields '(U p)' -func internalCloud\"\n",
    "        ],\n",
    "        \"case_dir\": \"VWT/\",\n",
    "        \"cpus\": [1, 1, 1],\n",
    "        \"sets\": sets,\n",
    "        \"fields\": [\"Utrans\", ]\n",
    "    },\n",
    "    \"parent\": parent_id,\n",
    "    \"dependent_on\": vwt_id\n",
    "}\n",
    "probe_task = client.create(f\"/api/project/{project_id}/task/\", payload)\n",
    "probe_id = probe_task.get(\"uid\")\n",
    "\n",
    "print(f\"PROBE TASK: {probe_id[:8]}\")\n",
    "print(json.dumps(probe_task, indent=4))\n"
   ],
   "metadata": {
    "collapsed": false,
    "pycharm": {
     "name": "#%%\n"
    }
   }
  },
  {
   "cell_type": "code",
   "execution_count": 14,
   "outputs": [
    {
     "name": "stdout",
     "output_type": "stream",
     "text": [
      "UPLOADED EPW FILE: WeatherFiles/DNK_Copenhagen.061800_IWEC.epw\n",
      "WIND THRESHOLD TASK: 067d2aad\n",
      "{\n",
      "    \"uid\": \"067d2aad-15dd-4762-a804-07d4f5d50ac6\",\n",
      "    \"status\": \"waiting\",\n",
      "    \"started\": null,\n",
      "    \"stopped\": null,\n",
      "    \"created\": \"2020-10-12T11:22:10.109394\",\n",
      "    \"config\": {\n",
      "        \"task_type\": \"cfd\",\n",
      "        \"cmd\": \"run_wind_thresholds\",\n",
      "        \"case_dir\": \"VWT/\",\n",
      "        \"cpus\": [\n",
      "            2,\n",
      "            1,\n",
      "            1\n",
      "        ],\n",
      "        \"patches\": [\n",
      "            \"set1\"\n",
      "        ],\n",
      "        \"epw_file\": \"WeatherFiles/DNK_Copenhagen.061800_IWEC.epw\",\n",
      "        \"set_foam_patch_fields\": false\n",
      "    },\n",
      "    \"cluster_base_dir\": \"/mnt/cluster/projects/99_jupyter-project/jupyter-wind-thresholds_59fee6e1\",\n",
      "    \"parent\": {\n",
      "        \"uid\": \"6d4fd5f9-6ef8-419b-a445-8898b468ed6f\",\n",
      "        \"name\": \"Jupyter Wind Thresholds\"\n",
      "    },\n",
      "    \"meta_json\": {},\n",
      "    \"project\": \"8e7b022e-4363-408f-80c8-c5a4e4246a32\",\n",
      "    \"name\": \"Wind Thresholds\",\n",
      "    \"dependent_on\": {\n",
      "        \"uid\": \"0540874d-aab5-4267-97b5-9fc7f349a5c1\",\n",
      "        \"name\": \"Probing\"\n",
      "    },\n",
      "    \"priority\": 100\n",
      "}\n"
     ]
    }
   ],
   "source": [
    "epw_name = \"DNK_Copenhagen.061800_IWEC.epw\"\n",
    "epw_path = os.path.join(data_path, \"mesh_vwt\", epw_name)\n",
    "file_upload = client.update(f\"api/task/{parent_id}/file/WeatherFiles/{epw_name}/\",\n",
    "                            files=open(epw_path, 'r').read(), extra_headers={\"content-type\": \"application/octet-stream\"})\n",
    "print(f\"UPLOADED EPW FILE: {file_upload.get('file')}\")\n",
    "\n",
    "payload = {\n",
    "    \"name\": \"Wind Thresholds\",\n",
    "    \"config\": {\n",
    "        \"task_type\": \"cfd\",\n",
    "        \"cmd\": \"run_wind_thresholds\",\n",
    "        \"case_dir\": \"VWT/\",\n",
    "        \"cpus\": [2, 1, 1],\n",
    "        \"patches\": [\"set1\"],\n",
    "        \"epw_file\": f\"WeatherFiles/{epw_name}\",\n",
    "        \"set_foam_patch_fields\": False\n",
    "    },\n",
    "    \"parent\": parent_id,\n",
    "    \"dependent_on\": probe_id\n",
    "}\n",
    "threshold_task = client.create(f\"/api/project/{project_id}/task/\", payload)\n",
    "threshold_id = threshold_task.get(\"uid\")\n",
    "\n",
    "print(f\"WIND THRESHOLD TASK: {threshold_id[:8]}\")\n",
    "print(json.dumps(threshold_task, indent=4))\n"
   ],
   "metadata": {
    "collapsed": false,
    "pycharm": {
     "name": "#%%\n"
    }
   }
  },
  {
   "cell_type": "code",
   "execution_count": null,
   "outputs": [],
   "source": [
    "#client.delete(f\"api/project/{project_id}/task/{parent_id}/\")\n",
    "#client.delete(f\"api/project/{project_id}/\")"
   ],
   "metadata": {
    "collapsed": false,
    "pycharm": {
     "name": "#%%\n"
    }
   }
  },
  {
   "cell_type": "code",
   "execution_count": null,
   "outputs": [],
   "source": [],
   "metadata": {
    "collapsed": false,
    "pycharm": {
     "name": "#%%\n"
    }
   }
  }
 ],
 "metadata": {
  "kernelspec": {
   "display_name": "Python 3",
   "language": "python",
   "name": "python3"
  },
  "language_info": {
   "codemirror_mode": {
    "name": "ipython",
    "version": 2
   },
   "file_extension": ".py",
   "mimetype": "text/x-python",
   "name": "python",
   "nbconvert_exporter": "python",
   "pygments_lexer": "ipython2",
   "version": "2.7.6"
  }
 },
 "nbformat": 4,
 "nbformat_minor": 0
}